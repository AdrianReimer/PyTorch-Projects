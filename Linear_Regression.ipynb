{
  "nbformat": 4,
  "nbformat_minor": 0,
  "metadata": {
    "colab": {
      "name": "Linear Regression.ipynb",
      "version": "0.3.2",
      "provenance": []
    },
    "kernelspec": {
      "name": "python3",
      "display_name": "Python 3"
    }
  },
  "cells": [
    {
      "metadata": {
        "id": "E1FgIM4wOyT9",
        "colab_type": "code",
        "outputId": "5af910c7-99fa-4bff-f70a-b853a9b70de9",
        "colab": {
          "base_uri": "https://localhost:8080/",
          "height": 63
        }
      },
      "cell_type": "code",
      "source": [
        "!pip3 install torch"
      ],
      "execution_count": 0,
      "outputs": [
        {
          "output_type": "stream",
          "text": [
            "Requirement already satisfied: torch in /usr/local/lib/python3.6/dist-packages (1.0.1.post2)\n"
          ],
          "name": "stdout"
        }
      ]
    },
    {
      "metadata": {
        "id": "sMU0AFYpPJSy",
        "colab_type": "code",
        "colab": {}
      },
      "cell_type": "code",
      "source": [
        "import torch\n",
        "import torch.nn as nn\n",
        "import matplotlib.pyplot as plt\n",
        "import numpy as np\n"
      ],
      "execution_count": 0,
      "outputs": []
    },
    {
      "metadata": {
        "id": "hC3FqFz_Yv-D",
        "colab_type": "code",
        "outputId": "d6833e4b-9b9e-4ac4-92b7-8bded0c284b4",
        "colab": {
          "base_uri": "https://localhost:8080/",
          "height": 378
        }
      },
      "cell_type": "code",
      "source": [
        "X = torch.randn(100, 1) * 10\n",
        "y = X + torch.randn(100, 1) * 3\n",
        "plt.plot(X.numpy(), y.numpy(), \"ro\")\n",
        "plt.ylabel('y')\n",
        "plt.xlabel('x')"
      ],
      "execution_count": 0,
      "outputs": [
        {
          "output_type": "execute_result",
          "data": {
            "text/plain": [
              "Text(0.5, 0, 'x')"
            ]
          },
          "metadata": {
            "tags": []
          },
          "execution_count": 3
        },
        {
          "output_type": "display_data",
          "data": {
            "image/png": "[encoded data removed]",
            "text/plain": [
              "<Figure size 576x396 with 1 Axes>"
            ]
          },
          "metadata": {
            "tags": []
          }
        }
      ]
    },
    {
      "metadata": {
        "id": "Eg801jbEWYld",
        "colab_type": "code",
        "colab": {}
      },
      "cell_type": "code",
      "source": [
        "class LR(nn.Module):\n",
        "  def __init__(self, input_size, output_size):\n",
        "    super().__init__()\n",
        "    self.linear = nn.Linear(input_size, output_size)\n",
        "    \n",
        "  def forward(self, x):\n",
        "    pred = self.linear(x)\n",
        "    return pred\n",
        "  \n",
        "    "
      ],
      "execution_count": 0,
      "outputs": []
    },
    {
      "metadata": {
        "id": "okQPBHCGXSN6",
        "colab_type": "code",
        "outputId": "61de98cd-c649-4c7b-9201-fc50827aaabf",
        "colab": {
          "base_uri": "https://localhost:8080/",
          "height": 68
        }
      },
      "cell_type": "code",
      "source": [
        "torch.manual_seed(1)\n",
        "model = LR(1, 1)\n",
        "print(list(model.parameters()))"
      ],
      "execution_count": 0,
      "outputs": [
        {
          "output_type": "stream",
          "text": [
            "[Parameter containing:\n",
            "tensor([[0.5153]], requires_grad=True), Parameter containing:\n",
            "tensor([-0.4414], requires_grad=True)]\n"
          ],
          "name": "stdout"
        }
      ]
    },
    {
      "metadata": {
        "id": "cbQ4o9ArYQhp",
        "colab_type": "code",
        "colab": {}
      },
      "cell_type": "code",
      "source": [
        "[w, b] = model.parameters()\n",
        "def get_params():\n",
        "  return (w[0][0].item(), b[0].item())"
      ],
      "execution_count": 0,
      "outputs": []
    },
    {
      "metadata": {
        "id": "s_ipHvxGaFsM",
        "colab_type": "code",
        "colab": {}
      },
      "cell_type": "code",
      "source": [
        "def plot_fit(title):\n",
        "  plt.title = title\n",
        "  w1, b1 = get_params()\n",
        "  x1 = np.array([-10, 10])\n",
        "  y1 = w1*x1 + b1\n",
        "  plt.plot(x1, y1, 'r')\n",
        "  plt.scatter(X, y)\n",
        "  plt.show()"
      ],
      "execution_count": 0,
      "outputs": []
    },
    {
      "metadata": {
        "id": "eivL_dtQa1Hx",
        "colab_type": "code",
        "outputId": "1c55639f-f45d-45d6-c256-d78d80f000a0",
        "colab": {
          "base_uri": "https://localhost:8080/",
          "height": 347
        }
      },
      "cell_type": "code",
      "source": [
        "plot_fit('Initial Model')"
      ],
      "execution_count": 0,
      "outputs": [
        {
          "output_type": "display_data",
          "data": {
            "image/png": "[encoded data removed]",
            "text/plain": [
              "<Figure size 576x396 with 1 Axes>"
            ]
          },
          "metadata": {
            "tags": []
          }
        }
      ]
    },
    {
      "metadata": {
        "id": "LfRt3p-fbSlH",
        "colab_type": "code",
        "colab": {}
      },
      "cell_type": "code",
      "source": [
        "criterion = nn.MSELoss()\n",
        "optimizer = torch.optim.SGD(model.parameters(), lr=0.01)\n"
      ],
      "execution_count": 0,
      "outputs": []
    },
    {
      "metadata": {
        "id": "JpbzuSdnsPrX",
        "colab_type": "code",
        "outputId": "8985d603-825c-40b9-c920-2b58d3b3d858",
        "colab": {
          "base_uri": "https://localhost:8080/",
          "height": 1717
        }
      },
      "cell_type": "code",
      "source": [
        "epochs = 100\n",
        "losses = []\n",
        "for i in range(epochs):\n",
        "  y_pred = model.forward(X)\n",
        "  loss = criterion(y_pred, y)\n",
        "  print('epoch:', i, \"loss:\", loss.item())\n",
        "  losses.append(loss)\n",
        "  optimizer.zero_grad()\n",
        "  loss.backward()\n",
        "  optimizer.step()"
      ],
      "execution_count": 0,
      "outputs": [
        {
          "output_type": "stream",
          "text": [
            "epoch: 0 loss: 30.594865798950195\n",
            "epoch: 1 loss: 18.391218185424805\n",
            "epoch: 2 loss: 12.914521217346191\n",
            "epoch: 3 loss: 10.455592155456543\n",
            "epoch: 4 loss: 9.350522994995117\n",
            "epoch: 5 loss: 8.85287094116211\n",
            "epoch: 6 loss: 8.627779960632324\n",
            "epoch: 7 loss: 8.525032997131348\n",
            "epoch: 8 loss: 8.477240562438965\n",
            "epoch: 9 loss: 8.454166412353516\n",
            "epoch: 10 loss: 8.442246437072754\n",
            "epoch: 11 loss: 8.435391426086426\n",
            "epoch: 12 loss: 8.430869102478027\n",
            "epoch: 13 loss: 8.427450180053711\n",
            "epoch: 14 loss: 8.424581527709961\n",
            "epoch: 15 loss: 8.422011375427246\n",
            "epoch: 16 loss: 8.41962718963623\n",
            "epoch: 17 loss: 8.417373657226562\n",
            "epoch: 18 loss: 8.415226936340332\n",
            "epoch: 19 loss: 8.413171768188477\n",
            "epoch: 20 loss: 8.411202430725098\n",
            "epoch: 21 loss: 8.409311294555664\n",
            "epoch: 22 loss: 8.407496452331543\n",
            "epoch: 23 loss: 8.405754089355469\n",
            "epoch: 24 loss: 8.40407943725586\n",
            "epoch: 25 loss: 8.402471542358398\n",
            "epoch: 26 loss: 8.40092658996582\n",
            "epoch: 27 loss: 8.399443626403809\n",
            "epoch: 28 loss: 8.398019790649414\n",
            "epoch: 29 loss: 8.396651268005371\n",
            "epoch: 30 loss: 8.395337104797363\n",
            "epoch: 31 loss: 8.394075393676758\n",
            "epoch: 32 loss: 8.392862319946289\n",
            "epoch: 33 loss: 8.391698837280273\n",
            "epoch: 34 loss: 8.390580177307129\n",
            "epoch: 35 loss: 8.389506340026855\n",
            "epoch: 36 loss: 8.388474464416504\n",
            "epoch: 37 loss: 8.387483596801758\n",
            "epoch: 38 loss: 8.386531829833984\n",
            "epoch: 39 loss: 8.385618209838867\n",
            "epoch: 40 loss: 8.384739875793457\n",
            "epoch: 41 loss: 8.383896827697754\n",
            "epoch: 42 loss: 8.383087158203125\n",
            "epoch: 43 loss: 8.382308959960938\n",
            "epoch: 44 loss: 8.381562232971191\n",
            "epoch: 45 loss: 8.380844116210938\n",
            "epoch: 46 loss: 8.380155563354492\n",
            "epoch: 47 loss: 8.379493713378906\n",
            "epoch: 48 loss: 8.378857612609863\n",
            "epoch: 49 loss: 8.378247261047363\n",
            "epoch: 50 loss: 8.377660751342773\n",
            "epoch: 51 loss: 8.377097129821777\n",
            "epoch: 52 loss: 8.376556396484375\n",
            "epoch: 53 loss: 8.376036643981934\n",
            "epoch: 54 loss: 8.375537872314453\n",
            "epoch: 55 loss: 8.3750581741333\n",
            "epoch: 56 loss: 8.374597549438477\n",
            "epoch: 57 loss: 8.374155044555664\n",
            "epoch: 58 loss: 8.373730659484863\n",
            "epoch: 59 loss: 8.373322486877441\n",
            "epoch: 60 loss: 8.372930526733398\n",
            "epoch: 61 loss: 8.372554779052734\n",
            "epoch: 62 loss: 8.372193336486816\n",
            "epoch: 63 loss: 8.371846199035645\n",
            "epoch: 64 loss: 8.371512413024902\n",
            "epoch: 65 loss: 8.37119197845459\n",
            "epoch: 66 loss: 8.370884895324707\n",
            "epoch: 67 loss: 8.370589256286621\n",
            "epoch: 68 loss: 8.370305061340332\n",
            "epoch: 69 loss: 8.370033264160156\n",
            "epoch: 70 loss: 8.369771003723145\n",
            "epoch: 71 loss: 8.36952018737793\n",
            "epoch: 72 loss: 8.369277954101562\n",
            "epoch: 73 loss: 8.369046211242676\n",
            "epoch: 74 loss: 8.368824005126953\n",
            "epoch: 75 loss: 8.368609428405762\n",
            "epoch: 76 loss: 8.368404388427734\n",
            "epoch: 77 loss: 8.368206977844238\n",
            "epoch: 78 loss: 8.368017196655273\n",
            "epoch: 79 loss: 8.36783504486084\n",
            "epoch: 80 loss: 8.367660522460938\n",
            "epoch: 81 loss: 8.36749267578125\n",
            "epoch: 82 loss: 8.367331504821777\n",
            "epoch: 83 loss: 8.367176055908203\n",
            "epoch: 84 loss: 8.367027282714844\n",
            "epoch: 85 loss: 8.366884231567383\n",
            "epoch: 86 loss: 8.36674690246582\n",
            "epoch: 87 loss: 8.366615295410156\n",
            "epoch: 88 loss: 8.366488456726074\n",
            "epoch: 89 loss: 8.36636734008789\n",
            "epoch: 90 loss: 8.366250038146973\n",
            "epoch: 91 loss: 8.366138458251953\n",
            "epoch: 92 loss: 8.3660306930542\n",
            "epoch: 93 loss: 8.365926742553711\n",
            "epoch: 94 loss: 8.365827560424805\n",
            "epoch: 95 loss: 8.365732192993164\n",
            "epoch: 96 loss: 8.365639686584473\n",
            "epoch: 97 loss: 8.365551948547363\n",
            "epoch: 98 loss: 8.36546802520752\n",
            "epoch: 99 loss: 8.365386009216309\n"
          ],
          "name": "stdout"
        }
      ]
    },
    {
      "metadata": {
        "id": "8ydQuSZhth2D",
        "colab_type": "code",
        "outputId": "500f694f-2597-4c4e-af54-1fd744b359f7",
        "colab": {
          "base_uri": "https://localhost:8080/",
          "height": 378
        }
      },
      "cell_type": "code",
      "source": [
        "plt.plot(range(epochs), losses)\n",
        "plt.ylabel('Loss')\n",
        "plt.xlabel('epoch')"
      ],
      "execution_count": 0,
      "outputs": [
        {
          "output_type": "execute_result",
          "data": {
            "text/plain": [
              "Text(0.5, 0, 'epoch')"
            ]
          },
          "metadata": {
            "tags": []
          },
          "execution_count": 11
        },
        {
          "output_type": "display_data",
          "data": {
            "image/png": "[encoded data removed]",
            "text/plain": [
              "<Figure size 576x396 with 1 Axes>"
            ]
          },
          "metadata": {
            "tags": []
          }
        }
      ]
    },
    {
      "metadata": {
        "id": "zOhcsdB6uds8",
        "colab_type": "code",
        "outputId": "ad2e63b1-5f50-474f-ff7b-c9caf8407d5a",
        "colab": {
          "base_uri": "https://localhost:8080/",
          "height": 347
        }
      },
      "cell_type": "code",
      "source": [
        "plot_fit(\"Trained Model\")"
      ],
      "execution_count": 0,
      "outputs": [
        {
          "output_type": "display_data",
          "data": {
            "image/png": "[encoded data removed]",
            "text/plain": [
              "<Figure size 576x396 with 1 Axes>"
            ]
          },
          "metadata": {
            "tags": []
          }
        }
      ]
    },
    {
      "metadata": {
        "id": "VaW2PKFZt5-f",
        "colab_type": "code",
        "colab": {}
      },
      "cell_type": "code",
      "source": [
        ""
      ],
      "execution_count": 0,
      "outputs": []
    }
  ]
}